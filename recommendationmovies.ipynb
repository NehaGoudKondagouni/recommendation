{
  "nbformat": 4,
  "nbformat_minor": 0,
  "metadata": {
    "colab": {
      "provenance": []
    },
    "kernelspec": {
      "name": "python3",
      "display_name": "Python 3"
    },
    "language_info": {
      "name": "python"
    }
  },
  "cells": [
    {
      "cell_type": "code",
      "source": [
        "import pandas as pd\n",
        "import numpy as np\n",
        "\n",
        "data = {\n",
        "    'Title': ['Movie A', 'Movie B', 'Movie C', 'Movie D', 'Movie E'],\n",
        "    'Genre': ['Action', 'Drama', 'Comedy', 'Action', 'Comedy'],\n",
        "    'User_ID': [1, 2, 1, 3, 2],\n",
        "    'Rating': [5, 4, 3, 4, 2]\n",
        "}\n",
        "\n",
        "ratings_df = pd.DataFrame(data)\n",
        "\n",
        "user_item_matrix = ratings_df.pivot(index='User_ID', columns='Title', values='Rating').fillna(0)\n",
        "\n",
        "user_similarity = np.dot(user_item_matrix, user_item_matrix.T) / (np.linalg.norm(user_item_matrix, axis=1)[:, None] * np.linalg.norm(user_item_matrix.T, axis=0))\n",
        "\n",
        "def recommend_movies(user_id, user_item_matrix, user_similarity, num_recommendations=3):\n",
        "    user_ratings = user_item_matrix.loc[user_id]\n",
        "\n",
        "    similar_users = user_similarity[user_id - 1].argsort()[::-1][1:]\n",
        "\n",
        "    unseen_movies = user_ratings[user_ratings == 0]\n",
        "\n",
        "    recommendations = {}\n",
        "    for similar_user in similar_users:\n",
        "        similar_user_ratings = user_item_matrix.iloc[similar_user]\n",
        "        for movie_title, rating in similar_user_ratings.items():\n",
        "            if movie_title in unseen_movies:\n",
        "                if movie_title not in recommendations:\n",
        "                    recommendations[movie_title] = rating\n",
        "                else:\n",
        "                    recommendations[movie_title] += rating\n",
        "\n",
        "    top_recommendations = sorted(recommendations.items(), key=lambda x: x[1], reverse=True)[:num_recommendations]\n",
        "    return top_recommendations\n",
        "\n",
        "target_user_id = 1\n",
        "recommendations = recommend_movies(target_user_id, user_item_matrix, user_similarity)\n",
        "\n",
        "print(f\"Top Recommendations for User {target_user_id}:\")\n",
        "for movie_title, rating in recommendations:\n",
        "    print(f\"Movie Title: {movie_title}, Estimated Rating: {rating}\")\n"
      ],
      "metadata": {
        "colab": {
          "base_uri": "https://localhost:8080/"
        },
        "id": "M6WVMSkb16cL",
        "outputId": "37ab6fd4-f5c7-49c8-b117-baa296af2cdb"
      },
      "execution_count": 1,
      "outputs": [
        {
          "output_type": "stream",
          "name": "stdout",
          "text": [
            "Top Recommendations for User 1:\n",
            "Movie Title: Movie B, Estimated Rating: 4.0\n",
            "Movie Title: Movie D, Estimated Rating: 4.0\n",
            "Movie Title: Movie E, Estimated Rating: 2.0\n"
          ]
        }
      ]
    }
  ]
}